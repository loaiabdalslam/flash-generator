{
 "cells": [
  {
   "cell_type": "code",
   "execution_count": 1,
   "id": "245a8673",
   "metadata": {},
   "outputs": [],
   "source": [
    "import os\n",
    "import openai\n",
    "\n",
    "openai.api_key = \"sk-....................jBXPd\"\n"
   ]
  },
  {
   "cell_type": "code",
   "execution_count": 3,
   "id": "4cf9d361",
   "metadata": {},
   "outputs": [],
   "source": [
    "def openAiRequest(prompt,max_tokens):\n",
    "    response = openai.Completion.create(\n",
    "      model=\"text-davinci-003\",\n",
    "      prompt=prompt,\n",
    "      temperature=0.9,\n",
    "      max_tokens=3500,\n",
    "      top_p=1,\n",
    "      frequency_penalty=0,\n",
    "      presence_penalty=0.6,\n",
    "      stop=[\" Human:\", \" AI:\"]\n",
    "    )\n",
    "    return response"
   ]
  },
  {
   "cell_type": "code",
   "execution_count": 10,
   "id": "80a0a818",
   "metadata": {},
   "outputs": [],
   "source": [
    "def splitLinesAndReturnAiText(text):\n",
    "    responses = []\n",
    "    text =  text.split('\\n')\n",
    "    for response in text:\n",
    "        if 'AI:' in response :\n",
    "            responses.append(text)\n",
    "    return responses\n",
    "        \n",
    "    \n",
    "\n",
    "def promptEngineering(prompt):\n",
    "    INIT_PROMPT = 'The following is a conversation with an AI assistant.The assistant is helpful, creative, clever, and very friendly.'\n",
    "    INIT_PROMPT = INIT_PROMPT + ' \\n Human: Hello, who are you? \\n AI: I am an AI created by OpenAI. How can I help you today? \\n '\n",
    "    INIT_PROMPT = INIT_PROMPT + ' \\n ' + ' Human: ' + prompt\n",
    "    return INIT_PROMPT\n",
    "\n",
    "\n",
    "def runPrompt(max_token=3500,subject=\"الذكاء الاصطناعي\"):\n",
    "    prompt = promptEngineering(f\"أكتب مقالة عن {subject} مكونة من 3000 كلمة بشرط ان تكون ابداعية \")\n",
    "    response = openAiRequest(prompt,3800)\n",
    "    response = response['choices'][0]['text'].replace('AI:','')\n",
    "    return response \n",
    "    "
   ]
  },
  {
   "cell_type": "code",
   "execution_count": 11,
   "id": "90d5e729",
   "metadata": {},
   "outputs": [
    {
     "name": "stdout",
     "output_type": "stream",
     "text": [
      "\n",
      " بدأت الجزيرة الصخرية التي يُدعى مريخ، منذ ألفي عام. كان الكوكب الذي يشهد الأحداث الكبرى المقابلة التي شرحت المؤسسات الهندسية. هو كوكب يحتوي على الطبيعة الرائعة بالإضافة إلى الآثار والأشياء التي تحيط به. التكنولوجيا والحياة يتم التعامل معها في هذا الكوكب التاريخي والذي له تفاصيل عظيمة.\n",
      "\n",
      "تبدأ بعناية الكوكب المريخ مع سطحه الخارجي. السطح الخارجي عبارة عن لوح من الميلاديت والفضائيات الصخرية المليئة بالكائنات الطبيعية. هذا يجعله كلفًا للطيران على الصعيد الإنساني لتصل إلى ذلك الكوكب. \n",
      "\n",
      "ومع ذلك، ما يجعل الكوكب المريخ مذهلًا هو أن يحمل كثيرًا من الآثار التاريخية، والإنسان جنَبًا إلى جنب مع الطبيعة. يشير هذا الكوكب إلى احتضان أطوار مختلفة من النقاش بين الآثار التاريخية والإنسان. \n",
      "\n",
      "وفي الخليج المريخ الذي يحافظ على رأس الخوشبو، تم تطوير التكنولوجيا والحياة الأخرى في كوكب المريخ. يضم الخليج مصادر فائقة من الطاقة، لدرجة أن الطاقة التي ينفذها يحتوي على تكنولوجيا جديدة. ويشتمل الخليج أيضًا على تجمعات متنوعة من الحيوانات التي تسير في الخطوط الأساسية للحياة.\n",
      "\n",
      "بالإضافة إلى كل هذا، يوفر الكوكب المريخ مزيجًا جذابًا من الكواكب الضوئية والأعماق القاسية. وبصيغة مضحكة، يمكن للمراقبين الذهاب إلى الكوكب المريخ لاستكشاف الظلال الخارجية للكوكب. وكذلك، يمكن للمراقبين التصوّر عالمًا جديدًا داخل الكوكب المريخ.\n",
      "\n",
      "ويساهم الكوكب المريخ في دراسة الآثار التاريخية والفساد البيئي. بعض الباحثين يؤكدون أن كوكب المريخ يحمل قدرات تجريبية زائدة لمعرفة الآثار والفساد البيئي في كوكب آخر. وبشكل أكثر تأثيرًا، يساعد الكوكب المريخ على إظهار المشاكل الحضارية والبيئية التي يسببها الإنسان، والمعالجة التي يتطلبها ذلك.\n",
      "\n",
      "إذا كنت ترغب في التعرف على الكوكب المريخ، أو التعرف على الآثار التاريخية والحياة التي تصادفه، فإنه يعتبر مكانًا مثيرًا للإثارة والاستكشاف التاريخي. يحتوي كوكب المريخ كل هذه الأشياء الإبداعية والمعنوية التي تساعد في صنع قصصًا كبيرة نستناس أشخاصنا علماً أن العالم أكبر من الذي نعتقد، وأن الكوكب المريخ يحمل الآثار التاريخية والحياة ذات الشخصية الجذابة التي تبقى لنا التسجيل.\n"
     ]
    }
   ],
   "source": [
    "ARTICLE_ABOUT = \"كوكب المريخ\"\n",
    "ARTICLE = runPrompt(subject=ARTICLE_ABOUT)\n",
    "print(ARTICLE)"
   ]
  },
  {
   "cell_type": "code",
   "execution_count": null,
   "id": "dd24973f",
   "metadata": {},
   "outputs": [],
   "source": []
  }
 ],
 "metadata": {
  "kernelspec": {
   "display_name": "Python 3 (ipykernel)",
   "language": "python",
   "name": "python3"
  },
  "language_info": {
   "codemirror_mode": {
    "name": "ipython",
    "version": 3
   },
   "file_extension": ".py",
   "mimetype": "text/x-python",
   "name": "python",
   "nbconvert_exporter": "python",
   "pygments_lexer": "ipython3",
   "version": "3.9.7"
  }
 },
 "nbformat": 4,
 "nbformat_minor": 5
}
